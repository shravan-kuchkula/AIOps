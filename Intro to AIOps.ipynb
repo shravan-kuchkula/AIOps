{
 "cells": [
  {
   "cell_type": "markdown",
   "metadata": {},
   "source": [
    "## Background\n",
    "### Digital Transformation gave rise to AIOps\n",
    "`Digital Transformation` gave rise to AIOps platform. Digital transformation encompasses `DevOps` and the adoption of cloud and new technologies like containers.\n",
    "\n",
    "All of these new technologies and users are straining traditional performance and service management strategies and tools to the breaking point.\n",
    "\n",
    "> AIOps is the ITOps paradigm shift required to handle these digital transformation issues.\n",
    "\n",
    "## Definitions\n",
    "\n",
    "**What is AIOps?**:\n",
    "\n",
    "> AIOps stands for artificial intelligence for IT operations. It refers to multi-layered technology platforms that automate and enhance IT operations through **analytics and machine learning (ML)**.\n",
    "\n",
    "AIOps platforms leverage big data, collecting a variety of data from **various IT operations tools and devices** in order to automatically ***spot and react to issues*** in real-time while still providing traditional historical analytics.\n",
    "\n",
    "\n",
    "\n",
    "\n"
   ]
  },
  {
   "cell_type": "code",
   "execution_count": null,
   "metadata": {},
   "outputs": [],
   "source": []
  }
 ],
 "metadata": {
  "kernelspec": {
   "display_name": "Python 3",
   "language": "python",
   "name": "python3"
  },
  "language_info": {
   "codemirror_mode": {
    "name": "ipython",
    "version": 3
   },
   "file_extension": ".py",
   "mimetype": "text/x-python",
   "name": "python",
   "nbconvert_exporter": "python",
   "pygments_lexer": "ipython3",
   "version": "3.7.3"
  }
 },
 "nbformat": 4,
 "nbformat_minor": 2
}
